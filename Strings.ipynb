{
 "cells": [
  {
   "cell_type": "markdown",
   "id": "e0381138",
   "metadata": {},
   "source": [
    "### Numbers"
   ]
  },
  {
   "cell_type": "code",
   "execution_count": 39,
   "id": "7f7a7f12",
   "metadata": {},
   "outputs": [
    {
     "name": "stdout",
     "output_type": "stream",
     "text": [
      "0\n",
      "0.8333333333333334\n"
     ]
    }
   ],
   "source": [
    "# integer division\n",
    "print(int(5/6))\n",
    "print(5/6)"
   ]
  },
  {
   "cell_type": "markdown",
   "id": "ccf2d8bc",
   "metadata": {},
   "source": [
    "### Strings"
   ]
  },
  {
   "cell_type": "code",
   "execution_count": 40,
   "id": "3c220482",
   "metadata": {},
   "outputs": [
    {
     "data": {
      "text/plain": [
       "'hELLO mY nAME iS peter'"
      ]
     },
     "execution_count": 40,
     "metadata": {},
     "output_type": "execute_result"
    }
   ],
   "source": [
    "# swap case\n",
    "s = \"Hello My Name Is PETER\"\n",
    "s.swapcase()"
   ]
  },
  {
   "cell_type": "code",
   "execution_count": 41,
   "id": "b129c587",
   "metadata": {},
   "outputs": [
    {
     "data": {
      "text/plain": [
       "'thwas was string example....wow!!! thwas was really string'"
      ]
     },
     "execution_count": 41,
     "metadata": {},
     "output_type": "execute_result"
    }
   ],
   "source": [
    "# string replace \n",
    "s = \"this is string example....wow!!! this is really string\"\n",
    "s.replace(\"is\", \"was\")"
   ]
  },
  {
   "cell_type": "code",
   "execution_count": 42,
   "id": "a216124f",
   "metadata": {},
   "outputs": [
    {
     "name": "stdout",
     "output_type": "stream",
     "text": [
      "Roman\n"
     ]
    }
   ],
   "source": [
    "# replacing character at a location in string\n",
    "s = \"Rohan\"\n",
    "char = \"m\"\n",
    "position = 2\n",
    "print(s[:position] + char + s[position + 1:])\n",
    "\n",
    "# double colon string - check this out"
   ]
  },
  {
   "cell_type": "code",
   "execution_count": 43,
   "id": "a98321f1",
   "metadata": {},
   "outputs": [
    {
     "name": "stdout",
     "output_type": "stream",
     "text": [
      "True\n",
      "False\n",
      "False\n",
      "False\n",
      "False\n"
     ]
    }
   ],
   "source": [
    "# basic string functions\n",
    "s = \"abc123U\"\n",
    "print(s.isalnum())\n",
    "print(s.isalpha())\n",
    "print(s.isdigit())\n",
    "print(s.islower())\n",
    "print(s.isupper())"
   ]
  },
  {
   "cell_type": "code",
   "execution_count": 44,
   "id": "273a0475",
   "metadata": {},
   "outputs": [
    {
     "name": "stdout",
     "output_type": "stream",
     "text": [
      "<map object at 0x00000235DD3E46A0>\n",
      "[True, True, True, False, False, False, True]\n",
      "True\n",
      "False\n"
     ]
    }
   ],
   "source": [
    "# any and all for list and map \n",
    "s = \"abc123U\"\n",
    "print(map(lambda x: x.isalpha(), list(s)))\n",
    "print(list(map(lambda x: x.isalpha(), list(s))))\n",
    "print(any(list(map(lambda x: x.isalpha(), list(s)))))\n",
    "print(all(list(map(lambda x: x.isalpha(), list(s)))))"
   ]
  },
  {
   "cell_type": "code",
   "execution_count": 45,
   "id": "50577431",
   "metadata": {},
   "outputs": [
    {
     "name": "stdout",
     "output_type": "stream",
     "text": [
      "ab-cd-ef-gh-ij-k\n"
     ]
    }
   ],
   "source": [
    "# insert a substring after every m characters in a string\n",
    "mainstr = \"abcdefghijk\"\n",
    "substr = \"-\"\n",
    "numchars = 2\n",
    "newstr = substr.join(mainstr[i:i+numchars] for i in range(0, len(mainstr), numchars))\n",
    "print(newstr)"
   ]
  },
  {
   "cell_type": "code",
   "execution_count": 67,
   "id": "21e15841",
   "metadata": {},
   "outputs": [
    {
     "name": "stdout",
     "output_type": "stream",
     "text": [
      "Chris Alan\n"
     ]
    }
   ],
   "source": [
    "# convert to title case\n",
    "s = \"chris alan\"\n",
    "print(\" \".join(list(map(lambda x: x.capitalize(), s.split(\" \")))))"
   ]
  },
  {
   "cell_type": "code",
   "execution_count": 70,
   "id": "b92ba5f3",
   "metadata": {},
   "outputs": [
    {
     "name": "stdout",
     "output_type": "stream",
     "text": [
      "ab\n",
      "cd\n",
      "ea\n",
      "ab\n",
      "ba\n",
      "c\n"
     ]
    }
   ],
   "source": [
    "# split string into substring of specific length k\n",
    "string = \"abcdeaabbac\"\n",
    "k = 2\n",
    "chunks = [string[i:i+k] for i in range(0, len(string), k)]\n",
    "for i in chunks:\n",
    "    print(\"\".join(dict.fromkeys(i)))"
   ]
  },
  {
   "cell_type": "markdown",
   "id": "b8374e83",
   "metadata": {},
   "source": [
    "### Sets\n",
    "\n",
    "* Union, intersection, difference, symmetric difference\n",
    "* update operations\n",
    "* convert between list to set and vice-versa"
   ]
  },
  {
   "cell_type": "code",
   "execution_count": 71,
   "id": "b7d76a6f",
   "metadata": {},
   "outputs": [
    {
     "data": {
      "text/plain": [
       "1"
      ]
     },
     "execution_count": 71,
     "metadata": {},
     "output_type": "execute_result"
    }
   ],
   "source": [
    "x = set()\n",
    "x.add(1)\n",
    "len(x)"
   ]
  },
  {
   "cell_type": "code",
   "execution_count": 75,
   "id": "a5d6c953",
   "metadata": {},
   "outputs": [
    {
     "data": {
      "text/plain": [
       "False"
      ]
     },
     "execution_count": 75,
     "metadata": {},
     "output_type": "execute_result"
    }
   ],
   "source": [
    "a_set = set(['a', 'b', 'c'])\n",
    "\"d\" in a_set"
   ]
  },
  {
   "cell_type": "markdown",
   "id": "35986e6e",
   "metadata": {},
   "source": [
    "#### Collections\n",
    "* https://www.hackerrank.com/challenges/py-the-captains-room/problem\n",
    "* Counter\n",
    "* Dict\n",
    "* Tuple"
   ]
  },
  {
   "cell_type": "code",
   "execution_count": 77,
   "id": "0f9f3bac",
   "metadata": {},
   "outputs": [
    {
     "data": {
      "text/plain": [
       "'The fox jumped over the log.'"
      ]
     },
     "execution_count": 77,
     "metadata": {},
     "output_type": "execute_result"
    }
   ],
   "source": [
    "import re\n",
    "s = \"The   fox jumped                 over    the log.\"\n",
    "re.sub(\"\\s\\s+\" , \" \", s)"
   ]
  },
  {
   "cell_type": "markdown",
   "id": "b0269914",
   "metadata": {},
   "source": [
    "### Reversing a string\n",
    "\n",
    "* Slice the string as per the examples above\n",
    "* Use the -1 as a step which is of the form\n",
    "\n",
    "<code>a[start:stop:step]</code>"
   ]
  },
  {
   "cell_type": "code",
   "execution_count": 2,
   "id": "1a5222a9",
   "metadata": {},
   "outputs": [
    {
     "name": "stdout",
     "output_type": "stream",
     "text": [
      "fedcBA\n"
     ]
    }
   ],
   "source": [
    "a = \"ABcdef\"\n",
    "\n",
    "print(a[::-1])"
   ]
  }
 ],
 "metadata": {
  "kernelspec": {
   "display_name": "Python 3",
   "language": "python",
   "name": "python3"
  },
  "language_info": {
   "codemirror_mode": {
    "name": "ipython",
    "version": 3
   },
   "file_extension": ".py",
   "mimetype": "text/x-python",
   "name": "python",
   "nbconvert_exporter": "python",
   "pygments_lexer": "ipython3",
   "version": "3.8.8"
  }
 },
 "nbformat": 4,
 "nbformat_minor": 5
}
